{
  "nbformat": 4,
  "nbformat_minor": 0,
  "metadata": {
    "colab": {
      "name": "Linear regression Profit.ipynb",
      "provenance": [],
      "authorship_tag": "ABX9TyOKboW//JSHDQMCskZ2c92x",
      "include_colab_link": true
    },
    "kernelspec": {
      "name": "python3",
      "display_name": "Python 3"
    },
    "language_info": {
      "name": "python"
    }
  },
  "cells": [
    {
      "cell_type": "markdown",
      "metadata": {
        "id": "view-in-github",
        "colab_type": "text"
      },
      "source": [
        "<a href=\"https://colab.research.google.com/github/aztecus1/Data-analysis-ERP-Nav/blob/main/Linear_regression_Profit.ipynb\" target=\"_parent\"><img src=\"https://colab.research.google.com/assets/colab-badge.svg\" alt=\"Open In Colab\"/></a>"
      ]
    },
    {
      "cell_type": "code",
      "metadata": {
        "id": "BaXlKzo1zqyE"
      },
      "source": [
        "\n",
        "from numpy import sqrt\n",
        "from numpy import asarray\n",
        "from pandas import read_csv\n",
        "import matplotlib.pyplot as plt\n",
        "from sklearn.model_selection import train_test_split\n",
        "from sklearn.linear_model import LinearRegression\n",
        "import numpy as np"
      ],
      "execution_count": null,
      "outputs": []
    },
    {
      "cell_type": "code",
      "metadata": {
        "colab": {
          "resources": {
            "http://localhost:8080/nbextensions/google.colab/files.js": {
              "data": "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",
              "ok": true,
              "headers": [
                [
                  "content-type",
                  "application/javascript"
                ]
              ],
              "status": 200,
              "status_text": ""
            }
          },
          "base_uri": "https://localhost:8080/",
          "height": 110
        },
        "id": "Lulrouirz_07",
        "outputId": "ea2c0723-ba74-4e53-867f-767ce9ddb2f9"
      },
      "source": [
        "from google.colab import files\n",
        "files.upload()"
      ],
      "execution_count": null,
      "outputs": [
        {
          "output_type": "display_data",
          "data": {
            "text/html": [
              "\n",
              "     <input type=\"file\" id=\"files-02722f06-2afd-4a16-afea-72a02cb2004a\" name=\"files[]\" multiple disabled\n",
              "        style=\"border:none\" />\n",
              "     <output id=\"result-02722f06-2afd-4a16-afea-72a02cb2004a\">\n",
              "      Upload widget is only available when the cell has been executed in the\n",
              "      current browser session. Please rerun this cell to enable.\n",
              "      </output>\n",
              "      <script src=\"/nbextensions/google.colab/files.js\"></script> "
            ],
            "text/plain": [
              "<IPython.core.display.HTML object>"
            ]
          },
          "metadata": {
            "tags": []
          }
        },
        {
          "output_type": "stream",
          "text": [
            "Saving ANNF.csv to ANNF.csv\n"
          ],
          "name": "stdout"
        },
        {
          "output_type": "execute_result",
          "data": {
            "text/plain": [
              "{'ANNF.csv': b'format_date,Profit\\r\\n40909.00,2538.6\\r\\n40910.00,1653.53835\\r\\n40911.00,571.2\\r\\n40912.00,2976.36903\\r\\n40913.00,234.4\\r\\n40918.00,1114.6\\r\\n40920.00,739.2\\r\\n40921.00,2983.84602\\r\\n40922.00,3307.0767\\r\\n40923.00,2176.68\\r\\n40924.00,369.6\\r\\n40927.00,277.2\\r\\n40928.00,1502\\r\\n40930.00,1331\\r\\n40932.00,2583.01534\\r\\n40933.00,856.8\\r\\n40936.00,0\\r\\n40938.00,369.6\\r\\n40940.00,532.4\\r\\n40942.00,18945.8497\\r\\n40944.00,4718.2\\r\\n40945.00,277.2\\r\\n40946.00,1863.4\\r\\n40947.00,3581.2\\r\\n40948.00,856.8\\r\\n40949.00,2363.4\\r\\n40950.00,798.1\\r\\n40952.00,895.8\\r\\n40955.00,82.8\\r\\n40956.00,901.8\\r\\n40958.00,2976.36903\\r\\n40959.00,104.4\\r\\n40960.00,2341.1\\r\\n40964.00,55.2\\r\\n40966.00,2723.44602\\r\\n40967.00,1946.61534\\r\\n40972.00,1331\\r\\n40973.00,105.5\\r\\n40975.00,61.9\\r\\n40980.00,1385.2\\r\\n40981.00,527.5\\r\\n40982.00,166.2\\r\\n40985.00,1428\\r\\n40988.00,462\\r\\n40990.00,646.8\\r\\n40991.00,55.2\\r\\n40992.00,2645.66136\\r\\n40993.00,1661.70767\\r\\n40995.00,2976.36903\\r\\n40997.00,3373.6\\r\\n40999.00,856.8\\r\\n41000.00,1144.8\\r\\n41002.00,1597.2\\r\\n41003.00,2309.2\\r\\n41004.00,2314.95369\\r\\n41005.00,1385.2\\r\\n41006.00,692.6\\r\\n41008.00,184.8\\r\\n41010.00,193.2\\r\\n41013.00,3992.4\\r\\n41016.00,1064.8\\r\\n41018.00,266.2\\r\\n41020.00,0\\r\\n41023.00,2661.25369\\r\\n41024.00,532.4\\r\\n41025.00,138\\r\\n41030.00,1038.9\\r\\n41031.00,119.98\\r\\n41032.00,1322.83068\\r\\n41033.00,1477\\r\\n41035.00,342.6\\r\\n41040.00,61.9\\r\\n41042.00,884\\r\\n41043.00,0\\r\\n41045.00,2330.55369\\r\\n41049.00,1226.4\\r\\n41050.00,1428\\r\\n41051.00,6423.7767\\r\\n41052.00,369.7\\r\\n41053.00,2240.5\\r\\n41056.00,3116.7\\r\\n41057.00,2458.7\\r\\n41058.00,266.2\\r\\n41062.00,2763\\r\\n41065.00,949.5\\r\\n41066.00,3198.8\\r\\n41067.00,2902.3\\r\\n41069.00,6763.4\\r\\n41070.00,220.8\\r\\n41071.00,1984.24602\\r\\n41073.00,92.4\\r\\n41076.00,3369.26136\\r\\n41077.00,3116.7\\r\\n41078.00,379.2\\r\\n41079.00,330.70767\\r\\n41080.00,2077.8\\r\\n41081.00,532.4\\r\\n41082.00,2314.95369\\r\\n41083.00,2419.2\\r\\n41088.00,554.4\\r\\n41089.00,369.6\\r\\n41090.00,1385.2\\r\\n41092.00,1206\\r\\n41093.00,-42.07\\r\\n41094.00,316.5\\r\\n41096.00,266.2\\r\\n41100.00,159.78\\r\\n41101.00,554.4\\r\\n41104.00,646.8\\r\\n41106.00,184.8\\r\\n41108.00,999.6\\r\\n41109.00,39\\r\\n41111.00,2395.8\\r\\n41112.00,2976.36903\\r\\n41114.00,266.2\\r\\n41115.00,692.6\\r\\n41116.00,428.4\\r\\n41118.00,527.5\\r\\n41119.00,964.8\\r\\n41121.00,211\\r\\n41122.00,1502\\r\\n41123.00,2033.4\\r\\n41124.00,2209.2\\r\\n41126.00,27.2\\r\\n41128.00,731.6\\r\\n41131.00,2662\\r\\n41133.00,3463\\r\\n41134.00,3116.7\\r\\n41137.00,374.2\\r\\n41138.00,3907.8\\r\\n41139.00,5175.6\\r\\n41140.00,1863.4\\r\\n41142.00,3138.1\\r\\n41144.00,142.8\\r\\n41145.00,3463\\r\\n41146.00,1322.83068\\r\\n41148.00,3486.3\\r\\n41150.00,2263.9\\r\\n41153.00,161.4\\r\\n41158.00,1597.2\\r\\n41161.00,646.8\\r\\n41162.00,527.5\\r\\n41164.00,1385.2\\r\\n41167.00,1331\\r\\n41170.00,21.34\\r\\n41171.00,2077.8\\r\\n41172.00,3116.7\\r\\n41173.00,2395.8\\r\\n41175.00,266.2\\r\\n41176.00,2652.2\\r\\n41177.00,5086.1\\r\\n41181.00,1755.6\\r\\n41182.00,41.13\\r\\n41184.00,2334.5\\r\\n41187.00,184.8\\r\\n41188.00,8544.57\\r\\n41194.00,285.6\\r\\n41195.00,428.4\\r\\n41196.00,999.6\\r\\n41197.00,2424.1\\r\\n41198.00,3116.7\\r\\n41199.00,2786.5\\r\\n41201.00,688.2\\r\\n41202.00,3614.4\\r\\n41204.00,2550.16\\r\\n41206.00,82.8\\r\\n41207.00,1038.9\\r\\n41209.00,924\\r\\n41211.00,462\\r\\n41212.00,646.8\\r\\n41214.00,2830.72\\r\\n41215.00,3912.8\\r\\n41216.00,831.6\\r\\n41217.00,346.3\\r\\n41218.00,4319.45369\\r\\n41220.00,2424.1\\r\\n41221.00,3148.6\\r\\n41222.00,1663.2\\r\\n41224.00,1170.3\\r\\n41225.00,220.8\\r\\n41226.00,739.2\\r\\n41228.00,1984.24602\\r\\n41229.00,1134.92301\\r\\n41230.00,220.8\\r\\n41231.00,7.8\\r\\n41232.00,2129.6\\r\\n41233.00,1038.9\\r\\n41234.00,184.8\\r\\n41235.00,2424.1\\r\\n41239.00,3463\\r\\n41242.00,1054.2\\r\\n41244.00,3046.4\\r\\n41247.00,373.9\\r\\n41252.00,2746.8\\r\\n41254.00,1385.2\\r\\n41255.00,1322.83068\\r\\n41256.00,889.2\\r\\n41257.00,924\\r\\n41258.00,1324.5\\r\\n41259.00,1731.5\\r\\n41260.00,92.4\\r\\n41261.00,92.4\\r\\n41263.00,2271.5\\r\\n41264.00,346.3\\r\\n41265.00,2886.86136\\r\\n41267.00,3489.66136\\r\\n41268.00,308.33\\r\\n41269.00,917.5\\r\\n41271.00,27.6\\r\\n41272.00,999.6\\r\\n41273.00,346.3\\r\\n41275.00,142.8\\r\\n41276.00,1038.9\\r\\n41278.00,3779.5\\r\\n41279.00,2424.1\\r\\n41280.00,1201.2\\r\\n41282.00,369.6\\r\\n41283.00,2728.46136\\r\\n41286.00,340.8\\r\\n41287.00,4377.16136\\r\\n41288.00,462\\r\\n41289.00,1731.5\\r\\n41290.00,856.8\\r\\n41291.00,1059.9\\r\\n41293.00,554.4\\r\\n41294.00,105.5\\r\\n41296.00,1067.8\\r\\n41297.00,3349.6\\r\\n41298.00,2880.6\\r\\n41299.00,692.6\\r\\n41300.00,330.70767\\r\\n41302.00,3628.6\\r\\n41303.00,1571.3\\r\\n41306.00,120.6\\r\\n41307.00,2077.8\\r\\n41308.00,1428\\r\\n41309.00,1331\\r\\n41312.00,1512.6\\r\\n41313.00,571.2\\r\\n41315.00,2395.8\\r\\n41316.00,1923.6\\r\\n41319.00,123.32\\r\\n41321.00,692.6\\r\\n41322.00,1984.24602\\r\\n41324.00,3359.6\\r\\n41325.00,0\\r\\n41330.00,964.8\\r\\n41331.00,211\\r\\n41332.00,3116.7\\r\\n41333.00,1617.8\\r\\n41335.00,81.6\\r\\n41336.00,3675\\r\\n41337.00,1331\\r\\n41338.00,342.6\\r\\n41339.00,2716.2\\r\\n41340.00,1731.5\\r\\n41341.00,3011.6\\r\\n41342.00,441.10767\\r\\n41343.00,507.6\\r\\n41344.00,1064.8\\r\\n41345.00,1085.4\\r\\n41346.00,0\\r\\n41347.00,1840.7\\r\\n41351.00,3463\\r\\n41354.00,3086.9\\r\\n41357.00,692.6\\r\\n41359.00,6206.35369\\r\\n41360.00,739.2\\r\\n41361.00,6604.8767\\r\\n41362.00,330.4\\r\\n41363.00,692.6\\r\\n41364.00,428.4\\r\\n41365.00,92.4\\r\\n41366.00,2077.8\\r\\n41369.00,1683.9\\r\\n41370.00,714\\r\\n41371.00,2560.2\\r\\n41375.00,729.6\\r\\n41378.00,2976.36903\\r\\n41379.00,185.7\\r\\n41381.00,1064.8\\r\\n41382.00,2452.13835\\r\\n41385.00,92.4\\r\\n41386.00,633\\r\\n41387.00,361.8\\r\\n41388.00,1064.8\\r\\n41389.00,1403.77\\r\\n41393.00,2778.2\\r\\n41394.00,6816.6767\\r\\n41395.00,554.4\\r\\n41396.00,92.4\\r\\n41397.00,5509.35369\\r\\n41400.00,517.72\\r\\n41402.00,1628.8\\r\\n41404.00,1731.5\\r\\n41405.00,70.2\\r\\n41406.00,3901.7\\r\\n41408.00,1285.2\\r\\n41409.00,285.6\\r\\n41410.00,831.6\\r\\n41411.00,316.5\\r\\n41412.00,1385.2\\r\\n41415.00,142.8\\r\\n41416.00,3627.2\\r\\n41417.00,924\\r\\n41418.00,2983.4\\r\\n41419.00,330.70767\\r\\n41420.00,163.2\\r\\n41422.00,7829.9\\r\\n41424.00,692.6\\r\\n41425.00,1796.4\\r\\n41428.00,1331\\r\\n41429.00,1704.85\\r\\n41431.00,552.05\\r\\n41432.00,428.4\\r\\n41433.00,165.6\\r\\n41434.00,1064.8\\r\\n41435.00,346.3\\r\\n41436.00,2395.8\\r\\n41437.00,3161.16903\\r\\n41438.00,0\\r\\n41439.00,901.2\\r\\n41441.00,4848.2\\r\\n41442.00,2424.1\\r\\n41443.00,1801.7\\r\\n41445.00,3116.7\\r\\n41447.00,2220.7\\r\\n41448.00,1038.9\\r\\n41452.00,21.03\\r\\n41453.00,999.6\\r\\n41454.00,8096.8\\r\\n41455.00,1142.4\\r\\n41458.00,766.8\\r\\n41459.00,1890\\r\\n41460.00,1731.5\\r\\n41463.00,2770.4\\r\\n41464.00,346.3\\r\\n41466.00,248.4\\r\\n41467.00,3484.0767\\r\\n41468.00,723.6\\r\\n41471.00,2976.36903\\r\\n41472.00,3463\\r\\n41476.00,1142.4\\r\\n41479.00,554.4\\r\\n41481.00,773.6\\r\\n41482.00,848\\r\\n41483.00,554.4\\r\\n41484.00,3914.9\\r\\n41490.00,3338.16903\\r\\n41491.00,999.6\\r\\n41492.00,138\\r\\n41493.00,2697.7\\r\\n41495.00,165.6\\r\\n41501.00,2129.6\\r\\n41502.00,1536.8\\r\\n41504.00,5540.8\\r\\n41506.00,6038.5\\r\\n41507.00,2339.6\\r\\n41509.00,4371.8767\\r\\n41510.00,428.4\\r\\n41512.00,831.6\\r\\n41513.00,110.4\\r\\n41514.00,2770.4\\r\\n41515.00,1984.24602\\r\\n41516.00,302.06\\r\\n41517.00,2928.2\\r\\n41518.00,346.3\\r\\n41520.00,1038.9\\r\\n41521.00,3437.26136\\r\\n41522.00,1231.90767\\r\\n41523.00,5366.95369\\r\\n41524.00,2101.1\\r\\n41525.00,55.2\\r\\n41526.00,2662\\r\\n41527.00,159.78\\r\\n41528.00,277.2\\r\\n41530.00,2825.6\\r\\n41533.00,2166.5\\r\\n41534.00,2662\\r\\n41536.00,1051.4\\r\\n41537.00,266.2\\r\\n41541.00,2617.3\\r\\n41542.00,308.33\\r\\n41543.00,1064.8\\r\\n41544.00,2440.2\\r\\n41548.00,92.4\\r\\n41549.00,277.2\\r\\n41552.00,331.2\\r\\n41553.00,2059.74\\r\\n41554.00,7196.11505\\r\\n41555.00,856.8\\r\\n41557.00,3855.9\\r\\n41558.00,1038.9\\r\\n41559.00,964.8\\r\\n41560.00,369.6\\r\\n41561.00,901.2\\r\\n41562.00,751\\r\\n41563.00,723.6\\r\\n41565.00,1984.24602\\r\\n41566.00,3463\\r\\n41570.00,924\\r\\n41572.00,193.2\\r\\n41577.00,692.6\\r\\n41579.00,2662\\r\\n41580.00,600.8\\r\\n41582.00,4155.6\\r\\n41586.00,369.6\\r\\n41590.00,428.4\\r\\n41591.00,1185.8\\r\\n41592.00,1206\\r\\n41594.00,42.07\\r\\n41597.00,2911.2\\r\\n41599.00,4440.1\\r\\n41601.00,1731.5\\r\\n41602.00,248.4\\r\\n41603.00,532.4\\r\\n41604.00,3545.1\\r\\n41605.00,250.4\\r\\n41606.00,266.2\\r\\n41609.00,285.6\\r\\n41610.00,1973.8\\r\\n41612.00,514.4\\r\\n41613.00,4786.2\\r\\n41614.00,2235.1\\r\\n41615.00,129.8\\r\\n41616.00,4897.4\\r\\n41617.00,738.5\\r\\n41621.00,346.3\\r\\n41624.00,1051.4\\r\\n41628.00,1578.9\\r\\n41629.00,2437.5\\r\\n41631.00,3423.75369\\r\\n41632.00,3042.6\\r\\n41633.00,2770.4\\r\\n41634.00,1524.8\\r\\n41635.00,2976.36903\\r\\n41636.00,2539.8\\r\\n41637.00,1946.2\\r\\n41639.00,831.6\\r\\n41640.00,495.2\\r\\n41642.00,1813.6\\r\\n41643.00,646.8\\r\\n41644.00,330.70767\\r\\n41647.00,277.2\\r\\n41649.00,999.6\\r\\n41651.00,831.6\\r\\n41654.00,3786.7\\r\\n41656.00,4525.4\\r\\n41657.00,600.8\\r\\n41658.00,7548.66903\\r\\n41661.00,220.8\\r\\n41662.00,422\\r\\n41663.00,1428\\r\\n41665.00,3193.5\\r\\n41667.00,1731.5\\r\\n41669.00,751\\r\\n41671.00,624.8\\r\\n41672.00,138\\r\\n41674.00,428.4\\r\\n41675.00,2073.83068\\r\\n41676.00,992.12301\\r\\n41677.00,1142.4\\r\\n41678.00,3423.7\\r\\n41680.00,369.6\\r\\n41681.00,1322.83068\\r\\n41682.00,54.4\\r\\n41683.00,82.8\\r\\n41686.00,2169.04602\\r\\n41691.00,2424.1\\r\\n41693.00,1385.2\\r\\n41694.00,216.9\\r\\n41695.00,211\\r\\n41696.00,1731.5\\r\\n41698.00,184.8\\r\\n41700.00,1278\\r\\n41701.00,3463\\r\\n41703.00,-123.32\\r\\n41704.00,3096.26136\\r\\n41707.00,220.8\\r\\n41708.00,714\\r\\n41712.00,276\\r\\n41713.00,1597.2\\r\\n41715.00,6479.7\\r\\n41718.00,1856.4\\r\\n41722.00,0\\r\\n41725.00,1247.5\\r\\n41727.00,193.2\\r\\n41729.00,1731.5\\r\\n41731.00,1597.2\\r\\n41732.00,527.5\\r\\n41733.00,661.41534\\r\\n41734.00,603\\r\\n41735.00,1596\\r\\n41736.00,804.7\\r\\n41741.00,2855.52301\\r\\n41747.00,369.6\\r\\n41749.00,2770.4\\r\\n41752.00,1992.41534\\r\\n41755.00,0\\r\\n41757.00,142.8\\r\\n41758.00,856.8\\r\\n41762.00,992.12301\\r\\n41763.00,2770.4\\r\\n41764.00,220.8\\r\\n41767.00,266.2\\r\\n41768.00,248.4\\r\\n41769.00,992.12301\\r\\n41770.00,1028.8\\r\\n41772.00,1041\\r\\n41773.00,212.4\\r\\n41776.00,120.6\\r\\n41777.00,2739.21534\\r\\n41778.00,1731.5\\r\\n41779.00,844.2\\r\\n41780.00,2786.5\\r\\n41782.00,27.2\\r\\n41783.00,2976.36903\\r\\n41784.00,519.2\\r\\n41785.00,248.4\\r\\n41786.00,2645.66136\\r\\n41788.00,3906.4\\r\\n41789.00,2395.8\\r\\n41790.00,1142.4\\r\\n41791.00,2791.01534\\r\\n41794.00,82.8\\r\\n41795.00,3116.7\\r\\n41797.00,-91.06\\r\\n41798.00,3116.7\\r\\n41800.00,1055\\r\\n41801.00,2370.15369\\r\\n41802.00,2123.7\\r\\n41803.00,2012.8\\r\\n41804.00,924\\r\\n41805.00,3809.3\\r\\n41806.00,1597.2\\r\\n41807.00,1527\\r\\n41808.00,0\\r\\n41810.00,193.2\\r\\n41811.00,4516.33835\\r\\n41812.00,1055\\r\\n41813.00,984\\r\\n41814.00,2314.95369\\r\\n41815.00,3566.5\\r\\n41817.00,2077.8\\r\\n41822.00,3363.36136\\r\\n41823.00,992.12301\\r\\n41827.00,509.3\\r\\n41828.00,692.6\\r\\n41830.00,831.6\\r\\n41836.00,2099.2\\r\\n41838.00,646.8\\r\\n41840.00,2077.8\\r\\n41842.00,2770.4\\r\\n41843.00,646.8\\r\\n41844.00,3793.5\\r\\n41846.00,3369.44602\\r\\n41848.00,3028.95369\\r\\n41849.00,1597.2\\r\\n41855.00,5400.46903\\r\\n41856.00,2314.95369\\r\\n41857.00,751\\r\\n41858.00,999.6\\r\\n41862.00,2129.6\\r\\n41863.00,3001.8\\r\\n41864.00,184.8\\r\\n41866.00,15.6\\r\\n41867.00,3116.7\\r\\n41869.00,1038.9\\r\\n41870.00,4550.04\\r\\n41873.00,316.5\\r\\n41874.00,3222.7\\r\\n41876.00,2770.4\\r\\n41878.00,831.6\\r\\n41880.00,994.4\\r\\n41881.00,1248\\r\\n41882.00,1064.8\\r\\n41883.00,997.2\\r\\n41884.00,4287.5\\r\\n41885.00,1946.2\\r\\n41887.00,532.4\\r\\n41888.00,92.4\\r\\n41890.00,2976.36903\\r\\n41892.00,798.6\\r\\n41893.00,844\\r\\n41894.00,2817\\r\\n41895.00,2506.2\\r\\n41898.00,2645.66136\\r\\n41899.00,2077.8\\r\\n41900.00,369.6\\r\\n41901.00,3463\\r\\n41902.00,165.6\\r\\n41903.00,2395.8\\r\\n41904.00,903.8\\r\\n41905.00,23.4\\r\\n41906.00,3116.7\\r\\n41908.00,316.5\\r\\n41910.00,2757.6\\r\\n41912.00,285.6\\r\\n41914.00,1653.53835\\r\\n41917.00,4159.6\\r\\n41918.00,27.6\\r\\n41920.00,9472.92485\\r\\n41923.00,2314.95369\\r\\n41924.00,1747.1\\r\\n41925.00,584.1\\r\\n41927.00,0\\r\\n41928.00,1468\\r\\n41929.00,0\\r\\n41934.00,692.6\\r\\n41937.00,603\\r\\n41938.00,692.6\\r\\n41939.00,2649\\r\\n41942.00,428.4\\r\\n41943.00,2314.95369\\r\\n41945.00,193.2\\r\\n41946.00,4029.9\\r\\n41947.00,119.99\\r\\n41950.00,5887.1\\r\\n41951.00,346.3\\r\\n41954.00,1875.2\\r\\n41958.00,1731.5\\r\\n41959.00,603\\r\\n41960.00,798.6\\r\\n41961.00,1750.3\\r\\n41962.00,4093.23068\\r\\n41964.00,646.8\\r\\n41965.00,1385.2\\r\\n41968.00,2077.8\\r\\n41972.00,2627.99\\r\\n41974.00,831.6\\r\\n41975.00,2285.4\\r\\n41976.00,1597.2\\r\\n41977.00,3164.2767\\r\\n41979.00,949.5\\r\\n41981.00,3442.8\\r\\n41982.00,1863.4\\r\\n41983.00,4287.5\\r\\n41986.00,211\\r\\n41987.00,1331\\r\\n41988.00,1677.3\\r\\n41991.00,3826.3\\r\\n41992.00,2424.1\\r\\n41993.00,3398.36903\\r\\n41994.00,369.6\\r\\n41996.00,739.2\\r\\n41998.00,2976.36903\\r\\n41999.00,1293.6\\r\\n42001.00,55.2\\r\\n42002.00,46.8\\r\\n42003.00,1285.2\\r\\n42004.00,5887.1\\r\\n'}"
            ]
          },
          "metadata": {
            "tags": []
          },
          "execution_count": 2
        }
      ]
    },
    {
      "cell_type": "code",
      "metadata": {
        "colab": {
          "base_uri": "https://localhost:8080/",
          "height": 293
        },
        "id": "Qf0MVD7W0Hmp",
        "outputId": "f7a95a45-5d43-4510-85e2-e8b3174f7800"
      },
      "source": [
        "df = read_csv('ANNF.csv')\n",
        "total=[]\n",
        "total.append(df.iloc[0]['Profit'])\n",
        "for i in range(650):\n",
        "  total.append(df.loc[0:i].Profit.sum())\n",
        "\n",
        "df['Total']=total\n",
        "\n",
        "plt.plot(df.format_date,df.Total)"
      ],
      "execution_count": null,
      "outputs": [
        {
          "output_type": "execute_result",
          "data": {
            "text/plain": [
              "[<matplotlib.lines.Line2D at 0x7f9fcbec9d10>]"
            ]
          },
          "metadata": {
            "tags": []
          },
          "execution_count": 3
        },
        {
          "output_type": "display_data",
          "data": {
            "image/png": "[encoded data removed]",
            "text/plain": [
              "<Figure size 432x288 with 1 Axes>"
            ]
          },
          "metadata": {
            "tags": [],
            "needs_background": "light"
          }
        }
      ]
    },
    {
      "cell_type": "code",
      "metadata": {
        "id": "YFi-7OTm1o94"
      },
      "source": [
        "#selection de la première colonne de notre dataset (Les dates)\n",
        "X = df.iloc[0:len(df),0].values.reshape(-1, 1)\n",
        "#selection de deuxième colonnes de notre dataset (Le profit effectué)\n",
        "Y = df.iloc[0:len(df),2].values.reshape(-1, 1) "
      ],
      "execution_count": null,
      "outputs": []
    },
    {
      "cell_type": "code",
      "metadata": {
        "colab": {
          "base_uri": "https://localhost:8080/",
          "height": 276
        },
        "id": "tLe1Hc10EQi3",
        "outputId": "74cd531d-8f99-4c58-8b2c-38a9502313ba"
      },
      "source": [
        "axes = plt.axes()\n",
        "axes.grid() # dessiner une grille pour une meilleur lisibilité du graphe\n",
        "plt.scatter(X,Y) \n",
        "plt.show()"
      ],
      "execution_count": null,
      "outputs": [
        {
          "output_type": "display_data",
          "data": {
            "image/png": "[encoded data removed]",
            "text/plain": [
              "<Figure size 432x288 with 1 Axes>"
            ]
          },
          "metadata": {
            "tags": [],
            "needs_background": "light"
          }
        }
      ]
    },
    {
      "cell_type": "code",
      "metadata": {
        "colab": {
          "base_uri": "https://localhost:8080/"
        },
        "id": "CMUJgqgZEWda",
        "outputId": "6ea536cb-4e75-49ee-d9d3-6f37f456a68a"
      },
      "source": [
        "X_train, X_test, Y_train, Y_test = train_test_split(X, Y, test_size = 0.2, random_state=5)\n",
        "print(X_train.shape)\n",
        "print(X_test.shape)\n",
        "print(Y_train.shape)\n",
        "print(Y_test.shape)"
      ],
      "execution_count": null,
      "outputs": [
        {
          "output_type": "stream",
          "text": [
            "(520, 1)\n",
            "(131, 1)\n",
            "(520, 1)\n",
            "(131, 1)\n"
          ],
          "name": "stdout"
        }
      ]
    },
    {
      "cell_type": "code",
      "metadata": {
        "id": "4ny6NDu8Fn7p"
      },
      "source": [
        "lmodellineaire = LinearRegression()\n",
        "lmodellineaire.fit(X_train, Y_train)\n",
        "y_test_predict = lmodellineaire.predict(X_test)"
      ],
      "execution_count": null,
      "outputs": []
    },
    {
      "cell_type": "code",
      "metadata": {
        "colab": {
          "base_uri": "https://localhost:8080/"
        },
        "id": "dyQF3rHBFrCt",
        "outputId": "1600d99a-2fde-42ac-eb39-c81303c4c8d7"
      },
      "source": [
        "from sklearn.metrics import mean_squared_error\n",
        "rmse = (np.sqrt(mean_squared_error(Y_test, y_test_predict))) \n",
        "print('La performance du modèle sur la base de test')\n",
        "print('--------------------------------------')\n",
        "print('Lerreur quadratique moyenne est {}'.format(rmse))\n",
        "from sklearn import metrics\n",
        "print('le score MAE est {}'.format(metrics.mean_absolute_error(Y_test, y_test_predict)))"
      ],
      "execution_count": null,
      "outputs": [
        {
          "output_type": "stream",
          "text": [
            "La performance du modèle sur la base de test\n",
            "--------------------------------------\n",
            "Lerreur quadratique moyenne est 10635.092495122044\n",
            "le score MAE est 9034.108635040417\n"
          ],
          "name": "stdout"
        }
      ]
    },
    {
      "cell_type": "code",
      "metadata": {
        "colab": {
          "base_uri": "https://localhost:8080/",
          "height": 276
        },
        "id": "dg22ST_NGYws",
        "outputId": "f9b951d4-0dfb-42c7-e61e-9ab8a9520395"
      },
      "source": [
        "plt.plot(X,Y,color='g')\n",
        "plt.plot(X,lmodellineaire.predict(X),color='r')\n",
        "plt.show()\n",
        "\n"
      ],
      "execution_count": null,
      "outputs": [
        {
          "output_type": "display_data",
          "data": {
            "image/png": "[encoded data removed]",
            "text/plain": [
              "<Figure size 432x288 with 1 Axes>"
            ]
          },
          "metadata": {
            "tags": [],
            "needs_background": "light"
          }
        }
      ]
    },
    {
      "cell_type": "code",
      "metadata": {
        "id": "eNs-djzGUmJg"
      },
      "source": [
        ""
      ],
      "execution_count": null,
      "outputs": []
    }
  ]
}